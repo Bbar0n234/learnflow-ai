{
  "cells": [
    {
      "cell_type": "markdown",
      "metadata": {
        "id": "_LLPBgYp3IOm"
      },
      "source": [
        "## Настройка локального окружения"
      ]
    },
    {
      "cell_type": "markdown",
      "metadata": {
        "id": "OHVM1nO83V1w"
      },
      "source": [
        "#### Загрузка переменных окружения"
      ]
    },
    {
      "cell_type": "code",
      "execution_count": 7,
      "metadata": {
        "colab": {
          "base_uri": "https://localhost:8080/"
        },
        "id": "gkBpfAel2p6b",
        "outputId": "66fdd106-75ba-4dd0-868b-884ef8d44445"
      },
      "outputs": [
        {
          "name": "stdout",
          "output_type": "stream",
          "text": [
            "Конфигурация загружена успешно!\n",
            "Директория для данных: ./data\n",
            "Модель: gpt-4.1-mini\n"
          ]
        }
      ],
      "source": [
        "# Загрузка конфигурации и переменных окружения\n",
        "from utils import Config, get_prompt_template, pretty_print_pydantic, save_general_state_to_markdown\n",
        "\n",
        "from dotenv import load_dotenv\n",
        "\n",
        "load_dotenv()\n",
        "\n",
        "# Инициализация конфигурации\n",
        "config = Config()\n",
        "config.ensure_directories()\n",
        "\n",
        "print(\"Конфигурация загружена успешно!\")\n",
        "print(f\"Директория для данных: {config.main_dir}\")\n",
        "print(f\"Модель: {config.get_model_name()}\")"
      ]
    },
    {
      "cell_type": "markdown",
      "metadata": {
        "id": "m7P8QJEQ3YBy"
      },
      "source": [
        "### Установка зависимостей"
      ]
    },
    {
      "cell_type": "code",
      "execution_count": 8,
      "metadata": {
        "id": "GZSsPEcU3Og_"
      },
      "outputs": [],
      "source": [
        "# Зависимости устанавливаются через poetry install\n",
        "# Убедитесь, что выполнили: poetry install"
      ]
    },
    {
      "cell_type": "markdown",
      "metadata": {
        "id": "_hsQqEuL3dNP"
      },
      "source": [
        "### Импорты"
      ]
    },
    {
      "cell_type": "code",
      "execution_count": 9,
      "metadata": {
        "id": "ThRSwE7M3cR0"
      },
      "outputs": [],
      "source": [
        "import os\n",
        "import time\n",
        "import re\n",
        "import requests\n",
        "import json\n",
        "import yaml\n",
        "import datetime\n",
        "import operator\n",
        "import urllib.parse\n",
        "from urllib.parse import urlparse\n",
        "from ftfy import fix_text\n",
        "import uuid\n",
        "import builtins\n",
        "from io import BytesIO\n",
        "\n",
        "from langchain_core.messages import HumanMessage, SystemMessage, AIMessage\n",
        "from langchain_openai import ChatOpenAI\n",
        "from langchain_core.tools import tool\n",
        "from langgraph.graph import StateGraph, START, END, MessagesState\n",
        "from langgraph.prebuilt import ToolNode, tools_condition\n",
        "from langgraph.checkpoint.memory import MemorySaver\n",
        "from langgraph.store.base import BaseStore\n",
        "from langgraph.store.memory import InMemoryStore\n",
        "from langchain_core.runnables.config import RunnableConfig\n",
        "from langgraph.constants import Send\n",
        "from langchain_core.utils.function_calling import convert_to_openai_tool\n",
        "from langgraph.checkpoint.memory import InMemorySaver\n",
        "from langgraph.types import interrupt, Command\n",
        "\n",
        "from IPython.display import display\n",
        "from IPython.display import Image as IPythonImage\n",
        "\n",
        "from langchain_community.document_loaders import WikipediaLoader\n",
        "from langchain_community.tools import TavilySearchResults\n",
        "\n",
        "from jinja2 import Template\n",
        "from pydantic import BaseModel, Field\n",
        "from typing import Annotated, Any, Optional, List, Literal, Union\n",
        "from typing_extensions import TypedDict\n",
        "\n",
        "import openai\n",
        "from openai import OpenAI, Client"
      ]
    },
    {
      "cell_type": "markdown",
      "metadata": {
        "id": "Y8ZyfKdz4I4M"
      },
      "source": [
        "### Переменные окружения"
      ]
    },
    {
      "cell_type": "code",
      "execution_count": 10,
      "metadata": {},
      "outputs": [
        {
          "name": "stdout",
          "output_type": "stream",
          "text": [
            "Langfuse client is authenticated and ready!\n"
          ]
        }
      ],
      "source": [
        "from langfuse import get_client\n",
        "\n",
        "langfuse = get_client()\n",
        "if langfuse.auth_check():\n",
        "    print(\"Langfuse client is authenticated and ready!\")\n",
        "else:\n",
        "    print(\"Authentication failed. Please check your credentials and host.\")"
      ]
    },
    {
      "cell_type": "code",
      "execution_count": 11,
      "metadata": {},
      "outputs": [],
      "source": [
        "from langfuse.langchain import CallbackHandler\n",
        "\n",
        "langfuse_handler = CallbackHandler()"
      ]
    },
    {
      "cell_type": "code",
      "execution_count": 12,
      "metadata": {
        "id": "EW27wKp84Kbh"
      },
      "outputs": [
        {
          "name": "stdout",
          "output_type": "stream",
          "text": [
            "✅ Все необходимые переменные окружения загружены\n"
          ]
        }
      ],
      "source": [
        "# Переменные окружения загружаются из .env файла через python-dotenv\n",
        "# Убедитесь, что создали .env файл на основе env.example\n",
        "\n",
        "# Проверяем наличие необходимых переменных окружения\n",
        "required_env_vars = [\n",
        "    'OPENAI_API_KEY',\n",
        "    'TAVILY_API_KEY', \n",
        "]\n",
        "\n",
        "missing_vars = []\n",
        "for var in required_env_vars:\n",
        "    if not os.getenv(var):\n",
        "        missing_vars.append(var)\n",
        "\n",
        "if missing_vars:\n",
        "    print(f\"⚠️ Отсутствуют переменные окружения: {', '.join(missing_vars)}\")\n",
        "    print(\"Создайте .env файл на основе env.example\")\n",
        "else:\n",
        "    print(\"✅ Все необходимые переменные окружения загружены\")\n",
        "\n",
        "FIREWORKS_API_KEY = os.getenv(\"NEWS_FIREWORKS_API_KEY\")"
      ]
    },
    {
      "cell_type": "code",
      "execution_count": 13,
      "metadata": {
        "id": "GeaKvaLSaOVc"
      },
      "outputs": [
        {
          "name": "stdout",
          "output_type": "stream",
          "text": [
            "Основная директория: ./data\n",
            "Путь к промптам: ./config/prompts.yaml\n",
            "Путь к конфигурации графа: ./config/graph.yaml\n"
          ]
        }
      ],
      "source": [
        "# Конфигурация уже загружена через utils.Config\n",
        "print(f\"Основная директория: {config.main_dir}\")\n",
        "print(f\"Путь к промптам: {config.prompts_config_path}\")\n",
        "print(f\"Путь к конфигурации графа: {config.graph_config_path}\")"
      ]
    },
    {
      "cell_type": "markdown",
      "metadata": {
        "id": "Q5sCi-O7akjh"
      },
      "source": [
        "### Конфиги"
      ]
    },
    {
      "cell_type": "markdown",
      "metadata": {
        "id": "fJM9MI0n6FBM"
      },
      "source": [
        "### Константы"
      ]
    },
    {
      "cell_type": "code",
      "execution_count": 14,
      "metadata": {
        "id": "3Cs9GfWu6GUU"
      },
      "outputs": [
        {
          "name": "stdout",
          "output_type": "stream",
          "text": [
            "Рабочая директория: ./data\n",
            "Модель: gpt-4.1-mini\n"
          ]
        }
      ],
      "source": [
        "# Используем конфигурацию из utils\n",
        "main_dir = config.main_dir\n",
        "model_name = config.get_model_name()\n",
        "\n",
        "print(f\"Рабочая директория: {main_dir}\")\n",
        "print(f\"Модель: {model_name}\")"
      ]
    },
    {
      "cell_type": "markdown",
      "metadata": {
        "id": "sXmsoJmY61KG"
      },
      "source": [
        "## Решение"
      ]
    },
    {
      "cell_type": "markdown",
      "metadata": {
        "id": "_5A-Vd4BOGUZ"
      },
      "source": [
        "## Prompts"
      ]
    },
    {
      "cell_type": "code",
      "execution_count": 15,
      "metadata": {},
      "outputs": [
        {
          "name": "stdout",
          "output_type": "stream",
          "text": [
            "✅ Промпты загружены из конфигурации\n"
          ]
        }
      ],
      "source": [
        "# Шаблоны промптов загружаются из конфигурации\n",
        "GENERATING_CONTENT_SYSTEM_PROMPT_TEMPLATE = get_prompt_template('generating_content_system_prompt', config)\n",
        "GEN_QUESTION_SYSTEM_PROMPT_TEMPLATE = get_prompt_template('gen_question_system_prompt', config)  \n",
        "GEN_QUESTION_REFINE_SYSTEM_PROMPT_TEMPLATE = get_prompt_template('gen_question_refine_system_prompt', config)\n",
        "GEN_ANSWER_SYSTEM_PROMPT_TEMPLATE = get_prompt_template('gen_answer_system_prompt', config)\n",
        "\n",
        "print(\"✅ Промпты загружены из конфигурации\")\n"
      ]
    },
    {
      "cell_type": "markdown",
      "metadata": {
        "id": "MtwRsIoGIkJT"
      },
      "source": [
        "## LangGraph"
      ]
    },
    {
      "cell_type": "code",
      "execution_count": 16,
      "metadata": {
        "id": "cIufRZbaVkSk"
      },
      "outputs": [],
      "source": [
        "def display_graph(app, xray=0):\n",
        "  display(IPythonImage(app.get_graph(xray=xray).draw_mermaid_png()))\n",
        "\n",
        "def pretty_print_pydantic(pydantic_model):\n",
        "    return json.dumps(pydantic_model.model_json_schema(), indent=4)"
      ]
    },
    {
      "cell_type": "code",
      "execution_count": 17,
      "metadata": {
        "id": "zIz-EoLRhBfm"
      },
      "outputs": [],
      "source": [
        "from utils import GapQuestions, GeneralState, GapQuestionsHITL"
      ]
    },
    {
      "cell_type": "code",
      "execution_count": 18,
      "metadata": {
        "id": "DxHICRhBhCnC"
      },
      "outputs": [],
      "source": [
        "model = ChatOpenAI(\n",
        "    model=model_name,\n",
        "    openai_api_key=os.getenv('OPENAI_API_KEY'),\n",
        ")"
      ]
    },
    {
      "cell_type": "code",
      "execution_count": 19,
      "metadata": {
        "id": "hfoyxzDwdasr"
      },
      "outputs": [],
      "source": [
        "async def generating_content_node(state: GeneralState) -> Command[Literal[\"generating_questions\"]]:\n",
        "    messages = [\n",
        "    SystemMessage(\n",
        "        content=GENERATING_CONTENT_SYSTEM_PROMPT_TEMPLATE.render(\n",
        "            exam_question=state.exam_question,\n",
        "            )\n",
        "        )\n",
        "    ]\n",
        "\n",
        "    my_response = await model.ainvoke(messages)\n",
        "\n",
        "    return Command(\n",
        "        goto=\"generating_questions\",\n",
        "        update={\"generated_material\": my_response.content}\n",
        "    )\n",
        "\n",
        "async def generating_questions_node(state: GeneralState) -> Command[Literal[\"answer_question\"]]:\n",
        "    # Если первый запуск - генерируем начальные вопросы\n",
        "    if not state.feedback_messages:\n",
        "        messages = [\n",
        "            SystemMessage(\n",
        "                content=GEN_QUESTION_SYSTEM_PROMPT_TEMPLATE.render(\n",
        "                    exam_question=state.exam_question,\n",
        "                    study_material=state.generated_material,\n",
        "                    json_schema=pretty_print_pydantic(GapQuestions)\n",
        "                )\n",
        "            )\n",
        "        ]\n",
        "\n",
        "        my_response = await model.with_structured_output(GapQuestions).ainvoke(messages)\n",
        "        \n",
        "        # Добавляем первое сообщение в историю обратной связи\n",
        "        initial_message = AIMessage(content=\"\\n\".join([f\"{i+1}. {q}\" for i, q in enumerate(my_response.gap_questions)]))\n",
        "        \n",
        "        return Command(\n",
        "            goto=\"generating_questions\",\n",
        "            update={\n",
        "                \"gap_questions\": my_response.gap_questions,\n",
        "                \"feedback_messages\": [initial_message]\n",
        "            }\n",
        "        )\n",
        "    \n",
        "    # Если контент уже есть - запрашиваем обратную связь\n",
        "    messages_for_user = [state.feedback_messages[-1].content]\n",
        "    \n",
        "    # При первом запросе обратной связи добавляем подсказку\n",
        "    if len(state.feedback_messages) == 1:\n",
        "        messages_for_user.append(\"Оцените предложенные вопросы. Вы можете запросить изменения или подтвердить, что вопросы готовы к использованию.\")\n",
        "    \n",
        "    # Прерываем выполнение и ждем ввода пользователя\n",
        "    user_feedback = interrupt(\"\\n\".join(messages_for_user))\n",
        "    \n",
        "    # Генерируем улучшенный ответ с учетом обратной связи\n",
        "    messages = [\n",
        "        SystemMessage(\n",
        "            content=GEN_QUESTION_REFINE_SYSTEM_PROMPT_TEMPLATE.render(\n",
        "                exam_question=state.exam_question,\n",
        "                study_material=state.generated_material,\n",
        "                current_questions=state.gap_questions,\n",
        "                json_schema=pretty_print_pydantic(GapQuestionsHITL)\n",
        "            )\n",
        "        )\n",
        "    ]\n",
        "    \n",
        "    # Добавляем историю сообщений\n",
        "    messages.extend(state.feedback_messages)\n",
        "    messages.append(HumanMessage(content=user_feedback))\n",
        "    \n",
        "    # Получаем обновленные вопросы\n",
        "    refined_response = await model.with_structured_output(GapQuestionsHITL).ainvoke(messages)\n",
        "    \n",
        "    # Создаем новое сообщение AI с обновленными вопросами\n",
        "    refined_message = AIMessage(\"\\n\".join([f\"{i+1}. {q}\" for i, q in enumerate(refined_response.gap_questions)]))\n",
        "    \n",
        "    # Если модель решила, что вопросы готовы к финализации\n",
        "    if refined_response.next_step == \"finalize\":\n",
        "        parallel_sends = [\n",
        "            Send(\"answer_question\", {\"question\": question}) for question in refined_response.gap_questions\n",
        "        ]\n",
        "        \n",
        "        return Command(\n",
        "            goto=parallel_sends,\n",
        "            update={\n",
        "                \"gap_questions\": refined_response.gap_questions,\n",
        "                \"feedback_messages\": [],\n",
        "            }\n",
        "        )\n",
        "    else:\n",
        "        # Продолжаем цикл уточнения\n",
        "        return Command(\n",
        "            goto=\"generating_questions\",\n",
        "            update={\n",
        "                \"gap_questions\": refined_response.gap_questions,\n",
        "                \"feedback_messages\": state.feedback_messages + [refined_message],\n",
        "            }\n",
        "        )\n",
        "\n",
        "async def answer_question_node(data: str) -> Command[Literal[\"__end__\"]]:\n",
        "    messages = [\n",
        "        SystemMessage(\n",
        "        content=GEN_ANSWER_SYSTEM_PROMPT_TEMPLATE.render(\n",
        "            exam_question=data['question'],\n",
        "            )\n",
        "        )\n",
        "    ]\n",
        "\n",
        "    my_response = await model.ainvoke(messages)\n",
        "\n",
        "    return Command(\n",
        "        goto=END,\n",
        "        update={\"gap_q_n_a\": [f\"##{data['question']}\\n\\n{my_response.content}\"]}\n",
        "    )"
      ]
    },
    {
      "cell_type": "code",
      "execution_count": 20,
      "metadata": {
        "colab": {
          "base_uri": "https://localhost:8080/"
        },
        "id": "Atwh9gIZdwCJ",
        "outputId": "8b4075c7-5cb1-40bc-afb4-52dd840f45f0"
      },
      "outputs": [
        {
          "data": {
            "text/plain": [
              "<langgraph.graph.state.StateGraph at 0x7fed7be51e80>"
            ]
          },
          "execution_count": 20,
          "metadata": {},
          "output_type": "execute_result"
        }
      ],
      "source": [
        "# --- Создание графа LangGraph ---\n",
        "workflow = StateGraph(GeneralState)\n",
        "\n",
        "# Добавляем узлы в граф\n",
        "workflow.add_node(\"generating_content\", generating_content_node)\n",
        "workflow.add_node(\"generating_questions\", generating_questions_node)\n",
        "workflow.add_node(\"answer_question\", answer_question_node)\n",
        "\n",
        "workflow.add_edge(START, \"generating_content\")"
      ]
    },
    {
      "cell_type": "code",
      "execution_count": 26,
      "metadata": {
        "colab": {
          "base_uri": "https://localhost:8080/"
        },
        "id": "1SzmuQ9ZuZnc",
        "outputId": "0a50648f-fabb-4617-8023-406b1efd5372"
      },
      "outputs": [
        {
          "name": "stdout",
          "output_type": "stream",
          "text": [
            "---\n",
            "config:\n",
            "  flowchart:\n",
            "    curve: linear\n",
            "---\n",
            "graph TD;\n",
            "\t__start__([<p>__start__</p>]):::first\n",
            "\tgenerating_content(generating_content)\n",
            "\tgenerating_questions(generating_questions)\n",
            "\tanswer_question(answer_question)\n",
            "\t__end__([<p>__end__</p>]):::last\n",
            "\t__start__ --> generating_content;\n",
            "\tanswer_question -.-> __end__;\n",
            "\tgenerating_content -.-> generating_questions;\n",
            "\tgenerating_questions -.-> answer_question;\n",
            "\tclassDef default fill:#f2f0ff,line-height:1.2\n",
            "\tclassDef first fill-opacity:0\n",
            "\tclassDef last fill:#bfb6fc\n",
            "\n"
          ]
        }
      ],
      "source": [
        "checkpointer = MemorySaver()\n",
        "app = workflow.compile(checkpointer=checkpointer)\n",
        "\n",
        "print(app.get_graph().draw_mermaid())"
      ]
    },
    {
      "cell_type": "code",
      "execution_count": 27,
      "metadata": {
        "colab": {
          "base_uri": "https://localhost:8080/"
        },
        "id": "a8PI8BkDlard",
        "outputId": "87a5896e-5a4b-44db-f28f-482f33bb01b4"
      },
      "outputs": [
        {
          "name": "stdout",
          "output_type": "stream",
          "text": [
            "\n",
            "==================================================\n",
            "Обрабатываем вопрос 1/1\n",
            "==================================================\n",
            "Классификация криптографических алгоритмов. Основные определения.\n",
            "StateSnapshot(values={}, next=(), config={'configurable': {'thread_id': '1'}}, metadata=None, created_at=None, parent_config=None, tasks=(), interrupts=())\n",
            "{'exam_question': 'Классификация криптографических алгоритмов. Основные определения.'}\n",
            "generated_material: # Классификация криптографических алгоритмов. Основные определения\n",
            "\n",
            "---\n",
            "\n",
            "## Введение\n",
            "\n",
            "В криптографии существует множество алгоритмов, предназначенных для обеспечения различных аспектов информационной безопасности: конфиденциальности, целостности, подлинности, отказоустойчивости и так далее. Каждая из этих задач решается своими методами и подходами, отличающимися по математической природе, структуре, свойствам и области применения.\n",
            "\n",
            "Этот обзор призван систематизировать **классификацию криптографических алгоритмов** с точки зрения как теоретических основ, так и их прикладного использования, акцентируя внимание на глубине понимания, математических принципах и современных тенденциях.\n",
            "\n",
            "---\n",
            "\n",
            "## 1. Основные определения\n",
            "\n",
            "Для начала введем ряд ключевых определений, послужащих базой для дальнейшего анализа.\n",
            "\n",
            "- **Криптографический алгоритм** — процедура или набор процедур, осуществляющих преобразование данных (plaintext или ciphertext) с целью обеспечения определенного криптографического свойства (например, конфиденциальности или аутентичности).\n",
            "\n",
            "- **Шифрование (Encryption)** — процесс преобразования исходного сообщения (открытого текста) в защищённый формат (шифротекст) с помощью ключа, обеспечивающий конфиденциальность.\n",
            "\n",
            "- **Расшифрование (Decryption)** — обратный процесс, извлекающий исходное сообщение из шифротекста при наличии секретного ключа.\n",
            "\n",
            "- **Ключ (Key)** — параметр, задающий уникальное преобразование алгоритма, обеспечивающий безопасность обмена.\n",
            "\n",
            "- **Симметричные алгоритмы** — криптоалгоритмы, использующие один и тот же ключ для шифрования и расшифрования.\n",
            "\n",
            "- **Асимметричные (асимметричные) алгоритмы** — криптосистемы, использующие пару ключей: публичный (для шифрования) и приватный (для расшифрования).\n",
            "\n",
            "- **Хеш-функции** — односторонние функции, преобразующие входные данные произвольной длины в выход фиксированной длины (хеш), предназначенные для обеспечения целостности и цифровой подписи.\n",
            "\n",
            "- **Криптостойкость (Security Strength)** — мера сложности взлома алгоритма, часто выражается через количество операций, необходимых для нахождения ключа/данных.\n",
            "\n",
            "---\n",
            "\n",
            "## 2. Основные критерии классификации криптографических алгоритмов\n",
            "\n",
            "Классификация алгоритмов осуществляется по нескольким фундаментальным признакам:\n",
            "\n",
            "### 2.1. По типу ключа: симметричные vs. асимметричные\n",
            "\n",
            "- **Симметричные (секретного ключа)** — одна ключевая величина для шифрования и расшифрования.\n",
            "- **Асимметричные (открытого ключа)** — два ключа: публичный и приватный.\n",
            "\n",
            "### 2.2. По назначению и функциональности\n",
            "\n",
            "- Алгоритмы **шифрования** (полное преобразование данных для конфиденциальности)\n",
            "- Алгоритмы **хеширования** (создание короткого дайджеста)\n",
            "- Алгоритмы **цифровой подписи** (обеспечение аутентичности, неотказуемости)\n",
            "- Алгоритмы **генерации случайных чисел** (PRNG и криптостойкие)\n",
            "- Алгоритмы **протоколов обмена ключами**\n",
            "\n",
            "### 2.3. По математической основе:\n",
            "\n",
            "- Основанные на **числовой теории** (например, факторизация, дискретное логарифмирование)\n",
            "- Основанные на **матричных/линейно-алгебраических структурах**\n",
            "- Основанные на **эллиптических кривых**\n",
            "- Основанные на **решении уравнений в конечных полях**\n",
            "- Основанные на **лабораторно-трудоемких задачах** теории решеток и кодирования (постквантовые алгоритмы)\n",
            "\n",
            "---\n",
            "\n",
            "## 3. Подробная классификация\n",
            "\n",
            "### 3.1. По типу ключа\n",
            "\n",
            "#### 3.1.1. Симметричные криптографические алгоритмы\n",
            "\n",
            "- Используют один общий секретный ключ.\n",
            "- Основные виды:\n",
            "  - **Потоковые шифры** — шифруют данные по одному биту или байту за раз, генерируя поток ключевых битов.\n",
            "  - **Блочные шифры** — шифруют блоки фиксированного размера (например, 64, 128 бит).\n",
            "  \n",
            "**Пример**: AES (Advanced Encryption Standard) — блочный шифр с размером блока 128 бит и ключами длиной 128/192/256 бит.\n",
            "\n",
            "##### Формальное описание (на примере блочного шифра):\n",
            "\n",
            "Пусть $P$ — блок открытого текста, $K$ — ключ, $E_K$ — функция шифрования, $D_K$ — функция расшифрования.\n",
            "\n",
            "$$\n",
            "C = E_K(P)\n",
            "$$\n",
            "$$\n",
            "P = D_K(C)\n",
            "$$\n",
            "\n",
            "Где для всех $K$, $P$ должно выполняться:\n",
            "\n",
            "$$\n",
            "D_K(E_K(P)) = P\n",
            "$$\n",
            "\n",
            "##### Предпосылка безопасности:\n",
            "\n",
            "- $E_K$ должна быть вычислительно необратимой без знания $K$.\n",
            "- Основные криптостойкие критерии: стойкость к атакам по известному тексту, адаптивному выбранному тексту и др.\n",
            "\n",
            "#### 3.1.2. Асимметричные криптографические алгоритмы\n",
            "\n",
            "- Используют пару ключей $(K_{priv}, K_{pub})$, где $K_{priv}$ — приватный ключ, хранящийся в секрете, а $K_{pub}$ — открытый.\n",
            "- Процесс шифрования:\n",
            "\n",
            "$$\n",
            "C = E_{K_{pub}}(P)\n",
            "$$\n",
            "  \n",
            "- Процесс расшифровки:\n",
            "\n",
            "$$\n",
            "P = D_{K_{priv}}(C)\n",
            "$$\n",
            "\n",
            "- Основное свойство:\n",
            "\n",
            "$$\n",
            "D_{K_{priv}}(E_{K_{pub}}(P)) = P\n",
            "$$\n",
            "\n",
            "и (при определенных системах):\n",
            "\n",
            "$$\n",
            "E_{K_{pub}}(D_{K_{priv}}(M)) = M\n",
            "$$\n",
            "\n",
            "что важно для цифровой подписи.\n",
            "\n",
            "##### Основные алгоритмы:\n",
            "\n",
            "- RSA (основан на проблеме факторизации)\n",
            "- Диффи-Хеллмана — обмен ключами (основан на дискретном логарифме)\n",
            "- ЭЦП на основе DSA, ECDSA (эллиптические кривые)\n",
            "  \n",
            "**RSA пример:**\n",
            "\n",
            "- Выбираются два больших простых числа $p$ и $q$.\n",
            "- Вычисляется модуль: $n = p q$.\n",
            "- Вычисляется функция Эйлера: $\\varphi(n) = (p-1)(q-1)$.\n",
            "- Выбирается открытая экспонента $e$ — взаимно простая с $\\varphi(n)$.\n",
            "- Вычисляется секретная экспонента $d$, удовлетворяющая:\n",
            "\n",
            "$$\n",
            "e d \\equiv 1 \\pmod{\\varphi(n)}\n",
            "$$\n",
            "\n",
            "Шифрование:\n",
            "\n",
            "$$\n",
            "C = P^e \\bmod n\n",
            "$$\n",
            "\n",
            "Расшифрование:\n",
            "\n",
            "$$\n",
            "P = C^d \\bmod n\n",
            "$$\n",
            "\n",
            "---\n",
            "\n",
            "### 3.2. По математической основе\n",
            "\n",
            "#### 3.2.1. На основе проблем факторизации и дискретного логарифма\n",
            "\n",
            "- RSA (факторизация)\n",
            "- DSA, ElGamal, Diffie-Hellman (дискретный логарифм в мультипликативной группе конечного поля)\n",
            "  \n",
            "#### 3.2.2. Криптография на эллиптических кривых (ECC)\n",
            "\n",
            "- Эллиптические кривые над конечными полями.\n",
            "- Группа точек $E(\\mathbb{F}_q)$ с операцией сложения.\n",
            "- Основная трудность — задача дискретного логарифма в группе точек.\n",
            "- Пример: ECDSA, ECDH.\n",
            "\n",
            "##### Математический формализм:\n",
            "\n",
            "Эллиптическая кривая над полем $\\mathbb{F}_q$ задаётся уравнением Вейерштрасса:\n",
            "\n",
            "$$\n",
            "y^2 = x^3 + ax + b, \\quad a,b \\in \\mathbb{F}_q, \\quad 4a^3 + 27b^2 \\neq 0\n",
            "$$\n",
            "\n",
            "Множество точек $E(\\mathbb{F}_q)$ вместе с точкой на бесконечности $\\mathcal{O}$ формируют абелеву группу с операцией сложения.\n",
            "\n",
            "Основные операции:\n",
            "\n",
            "- $kP$ — повторное сложение точки $P$, где $k \\in \\mathbb{Z}$.\n",
            "\n",
            "Защита строится на сложности нахождения $k$ по известным $P$ и $Q = kP$ (задача дискретного логарифма).\n",
            "\n",
            "---\n",
            "\n",
            "### 3.3. По области применения\n",
            "\n",
            "- **Конфиденциальность:** симметричное и асимметричное шифрование.\n",
            "- **Аутентификация:** цифровые подписи, MAC (Message Authentication Codes).\n",
            "- **Целостность:** хеш-функции (SHA-2, SHA-3), MAC.\n",
            "- **Обмен ключами:** протоколы Диффи-Хеллмана, протоколы на основе эллиптических кривых.\n",
            "- **Генерация случайных чисел:** криптографические генераторы.\n",
            "\n",
            "---\n",
            "\n",
            "## 4. Хеш-функции и MAC\n",
            "\n",
            "Выделяют отдельный класс функций, обеспечивающих криптографическую целостность и аутентификацию.\n",
            "\n",
            "- **Хеш-функция** — одностороннее отображение:\n",
            "\n",
            "$$\n",
            "H: \\{0,1\\}^* \\rightarrow \\{0,1\\}^n\n",
            "$$\n",
            "\n",
            "свойства:\n",
            "\n",
            "- Односторонность (невозможность обратного восстановления исходного сообщения).\n",
            "- Устойчивость ко столкновениям:\n",
            "\n",
            "$$\n",
            "\\text{сложность найти } x_1 \\neq x_2: H(x_1) = H(x_2)\n",
            "$$\n",
            "\n",
            "- Быстрота вычисления.\n",
            "\n",
            "С помощью ключа строятся:\n",
            "\n",
            "- **MAC (Message Authentication Code)** — обеспечивает целостность и аутентичность (например, HMAC).\n",
            "\n",
            "---\n",
            "\n",
            "## 5. Потоковые vs. блочные шифры (подробности)\n",
            "\n",
            "### 5.1. Потоковые шифры\n",
            "\n",
            "- Шифруют по одному биту/байту.\n",
            "- На вход подается поток ключевых битов $K_i$.\n",
            "- Шифротекст:\n",
            "\n",
            "$$\n",
            "C_i = P_i \\oplus K_i\n",
            "$$\n",
            "\n",
            "- Ключевой поток генерируется с помощью генератора псевдослучайных последовательностей (ПСПП, PRNG) с секретным начальным значением (ключом).\n",
            "\n",
            "- Пример: RC4, Salsa20, ChaCha.\n",
            "\n",
            "### 5.2. Блочные шифры\n",
            "\n",
            "- Операция над блоками фиксированного размера $n$ бит.\n",
            "- Режимы работы (для обеспечения безопасности при шифровании больших объемов):\n",
            "\n",
            "  - ECB (Electronic Codebook) — простой, но уязвимый.\n",
            "  - CBC (Cipher Block Chaining)\n",
            "  - CTR (Counter)\n",
            "  - GCM (Galois/Counter Mode) — аутентифицированный режим.\n",
            "\n",
            "---\n",
            "\n",
            "## 6. Классификация по типу режима работы (способ использования)\n",
            "\n",
            "- **Статические алгоритмы** — фиксированная реализация (например, базовый RSA).\n",
            "- **Динамические протоколы** — включают протоколы обмена ключами, сочетают разные алгоритмы.\n",
            "\n",
            "---\n",
            "\n",
            "## 7. Современные тренды и постквантовые криптографические алгоритмы\n",
            "\n",
            "- Классические системы уязвимы к квантовым алгоритмам (например, алгоритму Шора).\n",
            "- Разработка новых методов на основе:\n",
            "\n",
            "  - Теории решеток (NTRU, LWE)\n",
            "  - Многочленов над конечными кольцами\n",
            "  - Кодов коррекции ошибок\n",
            "  - Латинских квадратов и т.д.\n",
            "\n",
            "---\n",
            "\n",
            "## 8. Итоговая классификация в виде таблицы\n",
            "\n",
            "| Критерий                    | Классификация                                  | Примеры                                    |\n",
            "|-----------------------------|-----------------------------------------------|--------------------------------------------|\n",
            "| По ключу                    | Симметричные                                  | AES, DES, RC4                              |\n",
            "|                             | Асимметричные                                 | RSA, ECC, ElGamal                           |\n",
            "| По математической основе    | На основе факторизации                        | RSA                                        |\n",
            "|                             | На основе дискретного логарифма               | DSA, DH                                    |\n",
            "|                             | На основе эллиптических кривых                | ECDSA, ECDH                                |\n",
            "|                             | На основе решеток                             | Kyber, NTRU                                |\n",
            "| По функциональному назначению| Шифрование                                    | AES, RSA                                   |\n",
            "|                             | Хеширование                                  | SHA-2, SHA-3                               |\n",
            "|                             | Цифровая подпись                              | DSA, ECDSA                                 |\n",
            "|                             | Генерация ключей и PRNG                        | Диффи-Хеллман, Fortuna                      |\n",
            "| По режиму работы            | Блочные                                        | AES, DES                                   |\n",
            "|                             | Потоковые                                     | ChaCha20, RC4                              |\n",
            "\n",
            "---\n",
            "\n",
            "## 9. Заключение. Что важно помнить\n",
            "\n",
            "- Классификация криптографических алгоритмов многоаспектна и зависит от:\n",
            "\n",
            "  - Теоретической основы\n",
            "  - Типа ключа/системы\n",
            "  - Функционального назначения\n",
            "  - Особенностей реализации и использования\n",
            "\n",
            "- Математическая сложность и структура алгоритма определяют его криптостойкость.\n",
            "\n",
            "- Современная криптография развивается в направлении постквантовых решений, гибридных протоколов, а также интеграции с аппаратной безопасностью (например, HSM).\n",
            "\n",
            "- Понимание классификации позволяет грамотно выбрать и применить алгоритм в чем-либо конкретном, учесть требования к производительности, безопасности и совместимости.\n",
            "\n",
            "---\n",
            "\n",
            "# Приложение: иллюстрация на примере AES и RSA\n",
            "\n",
            "- AES — блок 128 бит, ключи 128/192/256 бит, основан на операциях замены и перестановки (S-блоки, перестановка, арифметика в $GF(2^8)$). Быстрый, симметричный.\n",
            "\n",
            "- RSA — асимметричный, безопасность основана на факторизации $n = p q$. Используется для защиты ключей, цифровых подписей.\n",
            "\n",
            "---\n",
            "\n",
            "# Список рекомендуемой литературы\n",
            "\n",
            "1. А. А. Курц, \"Криптография: основы и современные методы\".\n",
            "2. Д. Р. Стинсон, \"Криптография: теория и практика\".\n",
            "3. В. М. Ковальчук, \"Математические основы современной криптографии\".\n",
            "4. Постквантовые стандарты — отчеты NIST.\n",
            "5. Официальные спецификации AES, RSA, ECC.\n",
            "\n",
            "---\n",
            "\n",
            "Этот материал обеспечивает всестороннее понимание классификации криптографических алгоритмов, их математической основе и практическому применению. Ответ включает все ключевые аспекты без пробелов и служит полноценным учебным пособием продвинутого уровня.\n",
            "gap_questions: ['Каковы основные методы криптоанализа и какие атаки применимы к различным классам криптографических алгоритмов?', 'В чём заключаются отличия и особенности различных режимов работы блочных шифров с точки зрения безопасности (например, различия между ECB, CBC, CTR, GCM)?', 'Какие существуют критерии и метрики оценки криптостойкости алгоритмов, и как они применяются на практике?', 'Как устроены и функционируют протоколы обмена ключами на основе асимметричных алгоритмов, включая более подробное рассмотрение Диффи-Хеллмана и его расширений?', 'Как реализуется цифровая подпись на основе асимметричных алгоритмов, включая механизмы проверки, свойства и обеспечения неотказуемости?']\n",
            "feedback_messages: [AIMessage(content='1. Каковы основные методы криптоанализа и какие атаки применимы к различным классам криптографических алгоритмов?\\n2. В чём заключаются отличия и особенности различных режимов работы блочных шифров с точки зрения безопасности (например, различия между ECB, CBC, CTR, GCM)?\\n3. Какие существуют критерии и метрики оценки криптостойкости алгоритмов, и как они применяются на практике?\\n4. Как устроены и функционируют протоколы обмена ключами на основе асимметричных алгоритмов, включая более подробное рассмотрение Диффи-Хеллмана и его расширений?\\n5. Как реализуется цифровая подпись на основе асимметричных алгоритмов, включая механизмы проверки, свойства и обеспечения неотказуемости?', additional_kwargs={}, response_metadata={})]\n",
            "1. Каковы основные методы криптоанализа и какие атаки применимы к различным классам криптографических алгоритмов?\n",
            "2. В чём заключаются отличия и особенности различных режимов работы блочных шифров с точки зрения безопасности (например, различия между ECB, CBC, CTR, GCM)?\n",
            "3. Какие существуют критерии и метрики оценки криптостойкости алгоритмов, и как они применяются на практике?\n",
            "4. Как устроены и функционируют протоколы обмена ключами на основе асимметричных алгоритмов, включая более подробное рассмотрение Диффи-Хеллмана и его расширений?\n",
            "5. Как реализуется цифровая подпись на основе асимметричных алгоритмов, включая механизмы проверки, свойства и обеспечения неотказуемости?\n",
            "Оцените предложенные вопросы. Вы можете запросить изменения или подтвердить, что вопросы готовы к использованию.\n"
          ]
        },
        {
          "data": {
            "application/vnd.jupyter.widget-view+json": {
              "model_id": "57ca76cf891b41a3b750fb13d65121bb",
              "version_major": 2,
              "version_minor": 0
            },
            "text/plain": [
              "Text(value='', description='Ответ:', layout=Layout(width='80%'), placeholder='Введите ваш ответ')"
            ]
          },
          "metadata": {},
          "output_type": "display_data"
        },
        {
          "data": {
            "application/vnd.jupyter.widget-view+json": {
              "model_id": "010933354cad4744b115531383f4fd48",
              "version_major": 2,
              "version_minor": 0
            },
            "text/plain": [
              "Button(description='Продолжить', style=ButtonStyle())"
            ]
          },
          "metadata": {},
          "output_type": "display_data"
        },
        {
          "data": {
            "application/vnd.jupyter.widget-view+json": {
              "model_id": "d0225914c5744c59b23a6a0e2ad54b36",
              "version_major": 2,
              "version_minor": 0
            },
            "text/plain": [
              "Output()"
            ]
          },
          "metadata": {},
          "output_type": "display_data"
        },
        {
          "ename": "",
          "evalue": "",
          "output_type": "error",
          "traceback": [
            "\u001b[1;31mCannot execute code, session has been disposed. Please try restarting the Kernel."
          ]
        },
        {
          "ename": "",
          "evalue": "",
          "output_type": "error",
          "traceback": [
            "\u001b[1;31mCannot execute code, session has been disposed. Please try restarting the Kernel. \n",
            "\u001b[1;31mView Jupyter <a href='command:jupyter.viewOutput'>log</a> for further details."
          ]
        }
      ],
      "source": [
        "thread_id = \"1\"\n",
        "thread_config = {\"configurable\": {\"thread_id\": thread_id}}\n",
        "\n",
        "\n",
        "questions = [\n",
        "    \"Классификация криптографических алгоритмов. Основные определения.\"\n",
        "]\n",
        "\n",
        "for i, question in enumerate(questions):\n",
        "    print(f\"\\n{'='*50}\")\n",
        "    print(f\"Обрабатываем вопрос {i+1}/{len(questions)}\")\n",
        "    print(f\"{'='*50}\")\n",
        "    print(question)\n",
        "\n",
        "    while True:\n",
        "        state = app.get_state(thread_config)\n",
        "        print(state)\n",
        "\n",
        "        if state.values:\n",
        "            input_state = Command(resume=user_feedback)\n",
        "        else:\n",
        "            input_state = {\"exam_question\": question}\n",
        "        print(input_state)\n",
        "\n",
        "        async for event in app.astream(\n",
        "            input_state,\n",
        "            thread_config,\n",
        "            stream_mode=\"updates\"\n",
        "        ):\n",
        "            for node_name, node_data in event.items():\n",
        "                if type(node_data) == dict:\n",
        "                    for key, value in node_data.items():\n",
        "                        print(f\"{key}: {value}\")\n",
        "\n",
        "        if '__interrupt__' in event:\n",
        "            interrupt_message = event['__interrupt__'][0].value\n",
        "            print(interrupt_message)\n",
        "            \n",
        "            # Создаем виджеты для ввода\n",
        "            import ipywidgets as widgets\n",
        "            from IPython.display import display\n",
        "            \n",
        "            text_input = widgets.Text(\n",
        "                value='',\n",
        "                placeholder='Введите ваш ответ',\n",
        "                description='Ответ:',\n",
        "                disabled=False,\n",
        "                layout=widgets.Layout(width='80%')\n",
        "            )\n",
        "            \n",
        "            button = widgets.Button(description=\"Продолжить\")\n",
        "            output = widgets.Output()\n",
        "            \n",
        "            # Создаем переменную для хранения ответа\n",
        "            user_feedback_value = [None]\n",
        "            \n",
        "            def on_button_clicked(b):\n",
        "                user_feedback_value[0] = text_input.value\n",
        "                button.disabled = True\n",
        "                text_input.disabled = True\n",
        "                with output:\n",
        "                    print(f\"Получен ответ: {text_input.value}\")\n",
        "            \n",
        "            button.on_click(on_button_clicked)\n",
        "            \n",
        "            # Отображаем виджеты\n",
        "            display(text_input, button, output)\n",
        "            \n",
        "            # Ждем, пока пользователь не нажмет кнопку\n",
        "            import time\n",
        "            while user_feedback_value[0] is None:\n",
        "                time.sleep(0.1)\n",
        "            \n",
        "            # Получаем введенный ответ\n",
        "            user_feedback = user_feedback_value[0]\n",
        "            print(f\"Получен ответ: {user_feedback}\")\n",
        "        else:\n",
        "            state = app.get_state(thread_id)\n",
        "            md_text = save_general_state_to_markdown(state)\n",
        "            \n",
        "            # Сохраняем в директорию outputs\n",
        "            output_path = os.path.join(main_dir, 'outputs', f'question_{i+1:02d}_{datetime.datetime.now().strftime(\"%Y-%m-%d_%H-%M-%S\")}.md')\n",
        "            with open(output_path, 'w', encoding='utf-8') as f:\n",
        "                f.write(md_text)\n",
        "                \n",
        "            print(f\"✅ Результат сохранен: {output_path}\")\n",
        "            break\n",
        "        \n",
        "\n",
        "print(f\"\\n🎉 Обработка завершена! Результаты сохранены в {os.path.join(main_dir, 'outputs')}\")"
      ]
    }
  ],
  "metadata": {
    "colab": {
      "provenance": []
    },
    "kernelspec": {
      "display_name": "LearnFlow AI (Poetry)",
      "language": "python",
      "name": "learnflow-ai"
    },
    "language_info": {
      "codemirror_mode": {
        "name": "ipython",
        "version": 3
      },
      "file_extension": ".py",
      "mimetype": "text/x-python",
      "name": "python",
      "nbconvert_exporter": "python",
      "pygments_lexer": "ipython3",
      "version": "3.13.3"
    }
  },
  "nbformat": 4,
  "nbformat_minor": 0
}
